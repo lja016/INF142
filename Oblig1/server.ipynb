{
 "cells": [
  {
   "cell_type": "code",
   "execution_count": null,
   "metadata": {},
   "outputs": [
    {
     "name": "stdout",
     "output_type": "stream",
     "text": [
      "Ready to serve...\n",
      "Ready to serve...\n",
      "Ready to serve...\n",
      "Ready to serve...\n",
      "Ready to serve...\n",
      "Ready to serve...\n",
      "Ready to serve...\n",
      "Ready to serve...\n",
      "Ready to serve...\n",
      "Ready to serve...\n",
      "Ready to serve...\n",
      "Ready to serve...\n",
      "Ready to serve...\n",
      "Ready to serve...\n",
      "Ready to serve...\n",
      "Ready to serve...\n",
      "Ready to serve...\n",
      "Ready to serve...\n",
      "Ready to serve...\n",
      "Ready to serve...\n",
      "Ready to serve...\n",
      "Ready to serve...\n",
      "Ready to serve...\n",
      "Ready to serve...\n",
      "Ready to serve...\n",
      "Ready to serve...\n",
      "Ready to serve...\n",
      "Ready to serve...\n",
      "Ready to serve...\n",
      "Ready to serve...\n",
      "Ready to serve...\n",
      "Ready to serve...\n",
      "Ready to serve...\n",
      "Ready to serve...\n",
      "Ready to serve...\n"
     ]
    }
   ],
   "source": [
    "from socket import *\n",
    "import sys # In order to terminate the program\n",
    "\n",
    "serverSocket = socket(AF_INET, SOCK_STREAM)\n",
    "\n",
    "#Prepare a sever socket\n",
    "serverSocket.bind(('', 8000))\n",
    "serverSocket.listen()\n",
    "\n",
    "while True:\n",
    "    \n",
    "    #Establish the connection\n",
    "    print('Ready to serve...')\n",
    "    connectionSocket, addr = serverSocket.accept()\n",
    "    \n",
    "    try:\n",
    "        \n",
    "        #Receive the request from socket\n",
    "        message = connectionSocket.recv(1024).decode()\n",
    "        \n",
    "        #Check for empty requests (Google Chrome apparently does this :< )\n",
    "        if len(message) > 0:\n",
    "            filename = message.split()[1]                 \n",
    "            f = open(filename[1:]) \n",
    "            outputdata = f.read()\n",
    "            f.close\n",
    "            \n",
    "            #Send one HTTP header line into socket\n",
    "            connectionSocket.send('HTTP/1.1 200 OK\\r\\n\\r\\n'.encode())\n",
    "            \n",
    "            #Send the content of the requested file to the client\n",
    "            for i in range(0, len(outputdata)):           \n",
    "                connectionSocket.send(outputdata[i].encode())\n",
    "            connectionSocket.send(\"\\r\\n\".encode())\n",
    "            \n",
    "        connectionSocket.close()\n",
    "    except IOError:\n",
    "        \n",
    "        #Send response message for file not found\n",
    "        connectionSocket.send('HTTP/1.1 404 Not Found\\r\\n\\r\\n<!DOCTYPE html><html><head><meta charset=\"utf-8\"><title>404 page not found</title></head><body><h1>404 nothing too see here</h1></body></html>'.encode())\n",
    "        connectionSocket.close()\n",
    "connectionSocket.close()\n",
    "sys.exit() #Terminate the program after sending the corresponding data"
   ]
  },
  {
   "cell_type": "code",
   "execution_count": null,
   "metadata": {},
   "outputs": [],
   "source": []
  }
 ],
 "metadata": {
  "kernelspec": {
   "display_name": "Python 3",
   "language": "python",
   "name": "python3"
  },
  "language_info": {
   "codemirror_mode": {
    "name": "ipython",
    "version": 3
   },
   "file_extension": ".py",
   "mimetype": "text/x-python",
   "name": "python",
   "nbconvert_exporter": "python",
   "pygments_lexer": "ipython3",
   "version": "3.7.1"
  }
 },
 "nbformat": 4,
 "nbformat_minor": 2
}
