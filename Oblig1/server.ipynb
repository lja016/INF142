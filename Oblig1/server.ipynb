{
 "cells": [
  {
   "cell_type": "code",
   "execution_count": 26,
   "metadata": {},
   "outputs": [],
   "source": [
    "from socket import *\n",
    "import sys # In order to terminate the program"
   ]
  },
  {
   "cell_type": "code",
   "execution_count": 27,
   "metadata": {},
   "outputs": [],
   "source": [
    "serverSocket = socket(AF_INET, SOCK_STREAM)"
   ]
  },
  {
   "cell_type": "code",
   "execution_count": 28,
   "metadata": {},
   "outputs": [],
   "source": [
    "#Prepare a sever socket\n",
    "#Fill in start\n",
    "\n",
    "\n",
    "serverSocket.bind(('', 8000))\n",
    "serverSocket.listen()\n",
    "\n",
    "\n",
    "#Fill in end"
   ]
  },
  {
   "cell_type": "code",
   "execution_count": null,
   "metadata": {},
   "outputs": [
    {
     "name": "stdout",
     "output_type": "stream",
     "text": [
      "Ready to serve...\n",
      "Ready to serve...\n",
      "Ready to serve...\n",
      "Ready to serve...\n",
      "Ready to serve...\n",
      "Ready to serve...\n",
      "Ready to serve...\n"
     ]
    }
   ],
   "source": [
    "\n",
    "while True:\n",
    "    #Establish the connection\n",
    "    print('Ready to serve...')\n",
    "    \n",
    "    #Fill in start\n",
    "    connectionSocket, addr = serverSocket.accept()\n",
    "    #Fill in end          \n",
    "    try:\n",
    "        #Fill in start \n",
    "        message = connectionSocket.recv(1024).decode()\n",
    "        #Fill in end      \n",
    "        filename = message.split()[1]                 \n",
    "        f = open(filename[1:])\n",
    "        \n",
    "        #Fill in start  \n",
    "        outputdata = f.read()\n",
    "        f.close\n",
    "\n",
    "        #Fill in end   \n",
    "        \n",
    "        #Send one HTTP header line into socket\n",
    "        #Fill in start\n",
    "        connectionSocket.send('HTTP/1.1 200 OK\\r\\n\\r\\n'.encode())\n",
    "        #Fill in end\n",
    "        \n",
    "        #Send the content of the requested file to the client\n",
    "        for i in range(0, len(outputdata)):           \n",
    "            connectionSocket.send(outputdata[i].encode())\n",
    "        connectionSocket.send(\"\\r\\n\".encode())\n",
    "        connectionSocket.close()\n",
    "    except IOError:\n",
    "        #Send response message for file not found\n",
    "        #Fill in start\n",
    "        connectionSocket.send('HTTP/1.1 404 Not Found\\n'.encode())\n",
    "        #Fill in end\n",
    "        #Close client socket\n",
    "        #Fill in start\n",
    "        #Fill in end\n",
    "connectionSocket.close()"
   ]
  },
  {
   "cell_type": "code",
   "execution_count": null,
   "metadata": {},
   "outputs": [],
   "source": [
    "sys.exit() #Terminate the program after sending the corresponding data                                    \n"
   ]
  },
  {
   "cell_type": "code",
   "execution_count": null,
   "metadata": {},
   "outputs": [],
   "source": []
  },
  {
   "cell_type": "code",
   "execution_count": null,
   "metadata": {},
   "outputs": [],
   "source": []
  },
  {
   "cell_type": "code",
   "execution_count": null,
   "metadata": {},
   "outputs": [],
   "source": []
  }
 ],
 "metadata": {
  "kernelspec": {
   "display_name": "Python 3",
   "language": "python",
   "name": "python3"
  },
  "language_info": {
   "codemirror_mode": {
    "name": "ipython",
    "version": 3
   },
   "file_extension": ".py",
   "mimetype": "text/x-python",
   "name": "python",
   "nbconvert_exporter": "python",
   "pygments_lexer": "ipython3",
   "version": "3.7.1"
  }
 },
 "nbformat": 4,
 "nbformat_minor": 2
}
